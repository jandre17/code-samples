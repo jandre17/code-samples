{
 "cells": [
  {
   "cell_type": "markdown",
   "metadata": {},
   "source": [
    "# Hospital Price Transparency Data Collection & Price Variation Visualization (Abridged)"
   ]
  },
  {
   "cell_type": "markdown",
   "metadata": {},
   "source": [
    "This code sample is derived from my work on my capstone project (in progress, Fall 2021). My team and I are working to evaluate the compliance of hospitals in Southwestern Pennsylvania with a CMS hospital price transparency rule, and to visualize inter- and intra-hospital price variation for shoppable health services in the region.\n",
    "\n",
    "The hospital price transparency rule from the Centers for Medicare & Medicaid Services took effect on January 1, 2021. This rule mandates that hospitals provide gross, cash, and negotiated prices for the procedures they offer. These prices must be provided in both a machine-readable format and a consumer-friendly option, each having different requirements. [See Details](https://www.cms.gov/hospital-price-transparency).\n",
    "\n",
    "As part of this project, we collected this pricing information for 64 procedures from 34 hospitals in Southwestern Pennsylvania. With this dataset, we are currently working to create a dashboard to visualize inter- and intra-hospital price variation.\n",
    "\n",
    "In this code sample, I collect and process the data for just 3 of these hospitals and 5 of these procedures. I then visualize price variation for insurer-negotiated rates both across and within these hospitals."
   ]
  },
  {
   "cell_type": "markdown",
   "metadata": {},
   "source": [
    "## Table of Contents"
   ]
  },
  {
   "cell_type": "markdown",
   "metadata": {},
   "source": [
    "1. [Data Collection and Cleaning](#data)\n",
    "    1. [Collecting Hospital Data](#collecting)\n",
    "        1. [UPMC Presbyterian Shadyside Hospital](#upmc)\n",
    "        2. [Butler Memorial Hospital](#butler)\n",
    "        3. [ACMH Hospital](#acmh)\n",
    "    2. [Append & Standardize Combined Hospital Data](#append)\n",
    "2. [Visualizing Price Variation (Negotiated Rates)](#visualize)\n",
    "3. [Hospital Information](#info)\n",
    "4. [Sample Interpretations](#sample)"
   ]
  },
  {
   "cell_type": "markdown",
   "metadata": {},
   "source": [
    "## Setup"
   ]
  },
  {
   "cell_type": "code",
   "execution_count": 1,
   "metadata": {},
   "outputs": [],
   "source": [
    "import requests\n",
    "import json\n",
    "import pandas as pd\n",
    "import matplotlib.pyplot as plt"
   ]
  },
  {
   "cell_type": "markdown",
   "metadata": {},
   "source": [
    "<a name=\"data\"></a>\n",
    "## Data Collection and Cleaning"
   ]
  },
  {
   "cell_type": "code",
   "execution_count": 2,
   "metadata": {},
   "outputs": [],
   "source": [
    "# define the 5 procedures & corresponding codes\n",
    "code_map = {'80048': 'Basic metabolic panel',\n",
    "            '70450': 'CT scan, head or brain, without contrast',\n",
    "            '72110': 'X-Ray, lower back, minimum four views',\n",
    "            '77067': 'Mammography, screening, bilateral',\n",
    "            '470': 'Major joint replacement or reattachment of lower extremity without major comorbid conditions or complications (MCC)'}"
   ]
  },
  {
   "cell_type": "code",
   "execution_count": 3,
   "metadata": {},
   "outputs": [],
   "source": [
    "# create clean map for column names\n",
    "col_names = {'variable': 'price_type_raw', \n",
    "             'value': 'price',\n",
    "             'Hospital': 'hospital',\n",
    "             'CPT/DRG': 'procedure_code',\n",
    "             'CPT-4/DRG': 'procedure_code',\n",
    "             'CPT/HCPCS': 'procedure_code'}"
   ]
  },
  {
   "cell_type": "code",
   "execution_count": 4,
   "metadata": {},
   "outputs": [],
   "source": [
    "# create clean map for price types\n",
    "pt_map = {'IP Price': 'Gross IP', \n",
    "          'OP Price': 'Gross OP', \n",
    "          'IP Cash Price': 'Cash IP',\n",
    "          'OP Cash Price': 'Cash OP',\n",
    "          'Min Rate': 'Min', \n",
    "          'Max Rate': 'Max',\n",
    "          'Discounted Cash Price': 'Cash',\n",
    "          'Std Price': 'Gross',\n",
    "          'Hospital Price': 'Gross',\n",
    "          'Cash Price':'Cash',\n",
    "          'MIN': 'Min',\n",
    "          'MAX': 'Max'}"
   ]
  },
  {
   "cell_type": "markdown",
   "metadata": {},
   "source": [
    "<a name=\"collecting\"></a>\n",
    "### Collecting Hospital Data\n",
    "\n",
    "Future work: where possible, standardize the cleaning process with loops & functions.\n",
    "\n",
    "The three hospitals shown here have provided their data in relatively similar formats, and this collecting process could be streamlined. However, this is not true for the broader range of hospitals in this project. The price transparency rule does not clearly define a standard data format, so there is a good deal of variation across hospitals."
   ]
  },
  {
   "cell_type": "markdown",
   "metadata": {},
   "source": [
    "<a name=\"upmc\"></a>\n",
    "#### UPMC Presbyterian Shadyside Hosptial"
   ]
  },
  {
   "cell_type": "code",
   "execution_count": 5,
   "metadata": {},
   "outputs": [],
   "source": [
    "# JSON url\n",
    "url = \"https://cdn.upmc.com/-/media/upmc/locations/hospitals/documents/cdm-json-files/presbyterian-shadyside-standard-charges.json?la=en&rev=ad4d6c5eb22e46a8b95dfa1bf60b5539&hash=025826A6AF5C5B91962631C8DDC7D158&_ga=2.246655876.1660312782.1632322333-2067049313.1631911503&_gac=1.246621872.1631400896.EAIaIQobChMIx4a69YH48gIVkOd3Ch2KUgGVEAAYASAAEgJ18PD_BwE\"\n",
    "\n",
    "# request data, create dataframe\n",
    "headers = {'Content-Type': 'application/json'}\n",
    "\n",
    "response = requests.get(url, headers = headers)\n",
    "if response.status_code == 200:\n",
    "    df_upmc = pd.DataFrame(json.loads(response.content.decode('utf-8')))\n",
    "\n",
    "# filter dataset by procedure code\n",
    "df_upmc['CPT/DRG'] = df_upmc['CPT/DRG'].astype(str)\n",
    "df_upmc = df_upmc[df_upmc['CPT/DRG'].isin(code_map.keys())]"
   ]
  },
  {
   "cell_type": "code",
   "execution_count": 6,
   "metadata": {},
   "outputs": [
    {
     "data": {
      "text/html": [
       "<div>\n",
       "<style scoped>\n",
       "    .dataframe tbody tr th:only-of-type {\n",
       "        vertical-align: middle;\n",
       "    }\n",
       "\n",
       "    .dataframe tbody tr th {\n",
       "        vertical-align: top;\n",
       "    }\n",
       "\n",
       "    .dataframe thead th {\n",
       "        text-align: right;\n",
       "    }\n",
       "</style>\n",
       "<table border=\"1\" class=\"dataframe\">\n",
       "  <thead>\n",
       "    <tr style=\"text-align: right;\">\n",
       "      <th></th>\n",
       "      <th>Hospital</th>\n",
       "      <th>Description</th>\n",
       "      <th>CPT/DRG</th>\n",
       "      <th>Multiplier</th>\n",
       "      <th>IP Price</th>\n",
       "      <th>OP Price</th>\n",
       "      <th>IP Cash Price</th>\n",
       "      <th>OP Cash Price</th>\n",
       "      <th>Min Rate</th>\n",
       "      <th>Max Rate</th>\n",
       "      <th>...</th>\n",
       "      <th>CCBHO</th>\n",
       "      <th>FIDELIS CARE OF NEW YORK</th>\n",
       "      <th>GEISINGER HP-FAMILY</th>\n",
       "      <th>MOLINA OF NY</th>\n",
       "      <th>THE HEALTH PLAN</th>\n",
       "      <th>UPMC Comm</th>\n",
       "      <th>BC Comm</th>\n",
       "      <th>Aetna Comm</th>\n",
       "      <th>United Comm</th>\n",
       "      <th>Cigna Comm</th>\n",
       "    </tr>\n",
       "  </thead>\n",
       "  <tbody>\n",
       "    <tr>\n",
       "      <th>1565</th>\n",
       "      <td>UPMC Presbyterian Shadyside</td>\n",
       "      <td>CT HEAD WO CONTRAST</td>\n",
       "      <td>70450</td>\n",
       "      <td>1.0</td>\n",
       "      <td>3658</td>\n",
       "      <td>2438</td>\n",
       "      <td>2926.4</td>\n",
       "      <td>1950.4</td>\n",
       "      <td>85.25</td>\n",
       "      <td>780.16</td>\n",
       "      <td>...</td>\n",
       "      <td>109.4662</td>\n",
       "      <td>109.4662</td>\n",
       "      <td>109.4662</td>\n",
       "      <td>109.4662</td>\n",
       "      <td>109.4662</td>\n",
       "      <td>267.72</td>\n",
       "      <td>659.713287</td>\n",
       "      <td>714.334</td>\n",
       "      <td>699.706</td>\n",
       "      <td>780.16</td>\n",
       "    </tr>\n",
       "    <tr>\n",
       "      <th>1634</th>\n",
       "      <td>UPMC Presbyterian Shadyside</td>\n",
       "      <td>SPINE LUMBOSAC MIN 4 VWS</td>\n",
       "      <td>72110</td>\n",
       "      <td>1.0</td>\n",
       "      <td>1438</td>\n",
       "      <td>959</td>\n",
       "      <td>1150.4</td>\n",
       "      <td>767.2</td>\n",
       "      <td>24.75</td>\n",
       "      <td>306.88</td>\n",
       "      <td>...</td>\n",
       "      <td>43.0591</td>\n",
       "      <td>43.0591</td>\n",
       "      <td>43.0591</td>\n",
       "      <td>43.0591</td>\n",
       "      <td>43.0591</td>\n",
       "      <td>109.26</td>\n",
       "      <td>149.629622</td>\n",
       "      <td>280.987</td>\n",
       "      <td>275.233</td>\n",
       "      <td>306.88</td>\n",
       "    </tr>\n",
       "  </tbody>\n",
       "</table>\n",
       "<p>2 rows × 42 columns</p>\n",
       "</div>"
      ],
      "text/plain": [
       "                         Hospital               Description CPT/DRG  \\\n",
       "1565  UPMC Presbyterian Shadyside       CT HEAD WO CONTRAST   70450   \n",
       "1634  UPMC Presbyterian Shadyside  SPINE LUMBOSAC MIN 4 VWS   72110   \n",
       "\n",
       "      Multiplier IP Price OP Price  IP Cash Price  OP Cash Price Min Rate  \\\n",
       "1565         1.0     3658     2438         2926.4         1950.4    85.25   \n",
       "1634         1.0     1438      959         1150.4          767.2    24.75   \n",
       "\n",
       "     Max Rate  ...     CCBHO FIDELIS CARE OF NEW YORK GEISINGER HP-FAMILY  \\\n",
       "1565   780.16  ...  109.4662                 109.4662            109.4662   \n",
       "1634   306.88  ...   43.0591                  43.0591             43.0591   \n",
       "\n",
       "     MOLINA OF NY THE HEALTH PLAN UPMC Comm     BC Comm Aetna Comm  \\\n",
       "1565     109.4662        109.4662    267.72  659.713287    714.334   \n",
       "1634      43.0591         43.0591    109.26  149.629622    280.987   \n",
       "\n",
       "     United Comm Cigna Comm  \n",
       "1565     699.706     780.16  \n",
       "1634     275.233     306.88  \n",
       "\n",
       "[2 rows x 42 columns]"
      ]
     },
     "execution_count": 6,
     "metadata": {},
     "output_type": "execute_result"
    }
   ],
   "source": [
    "# view\n",
    "df_upmc.shape\n",
    "df_upmc.columns\n",
    "df_upmc.head(2)"
   ]
  },
  {
   "cell_type": "code",
   "execution_count": 7,
   "metadata": {},
   "outputs": [],
   "source": [
    "# select ID columns\n",
    "cols_id = ['Hospital', 'Description', 'CPT/DRG', 'Multiplier']\n",
    "\n",
    "cols_val = []\n",
    "for item in df_upmc.columns.tolist():\n",
    "    if item not in cols_id:\n",
    "        cols_val.append(item)\n",
    "        \n",
    "# melt dataframe - wide to long\n",
    "df_upmc = df_upmc.reset_index()\n",
    "df_upmc_long = pd.melt(df_upmc, \n",
    "                       id_vars = cols_id,\n",
    "                       value_vars = cols_val)"
   ]
  },
  {
   "cell_type": "code",
   "execution_count": 8,
   "metadata": {},
   "outputs": [],
   "source": [
    "# rename columns\n",
    "df_upmc_long.rename(columns = col_names, inplace = True)\n",
    "\n",
    "# select and reorder columns\n",
    "df_upmc_long = df_upmc_long[['hospital', 'procedure_code', 'price_type_raw', 'price']]"
   ]
  },
  {
   "cell_type": "code",
   "execution_count": 9,
   "metadata": {},
   "outputs": [],
   "source": [
    "# drop missing and bundled prices\n",
    "df_upmc_long = df_upmc_long.dropna(subset = ['price'])\n",
    "df_upmc_long = df_upmc_long[df_upmc_long['price'] != 'Bundled']\n",
    "\n",
    "# temporarily change price to string for appending\n",
    "df_upmc_long['price'] = df_upmc_long['price'].astype(str)"
   ]
  },
  {
   "cell_type": "code",
   "execution_count": 10,
   "metadata": {},
   "outputs": [
    {
     "name": "stdout",
     "output_type": "stream",
     "text": [
      "(198, 4)\n"
     ]
    },
    {
     "data": {
      "text/html": [
       "<div>\n",
       "<style scoped>\n",
       "    .dataframe tbody tr th:only-of-type {\n",
       "        vertical-align: middle;\n",
       "    }\n",
       "\n",
       "    .dataframe tbody tr th {\n",
       "        vertical-align: top;\n",
       "    }\n",
       "\n",
       "    .dataframe thead th {\n",
       "        text-align: right;\n",
       "    }\n",
       "</style>\n",
       "<table border=\"1\" class=\"dataframe\">\n",
       "  <thead>\n",
       "    <tr style=\"text-align: right;\">\n",
       "      <th></th>\n",
       "      <th>hospital</th>\n",
       "      <th>procedure_code</th>\n",
       "      <th>price_type_raw</th>\n",
       "      <th>price</th>\n",
       "    </tr>\n",
       "  </thead>\n",
       "  <tbody>\n",
       "    <tr>\n",
       "      <th>0</th>\n",
       "      <td>UPMC Presbyterian Shadyside</td>\n",
       "      <td>70450</td>\n",
       "      <td>IP Price</td>\n",
       "      <td>3658</td>\n",
       "    </tr>\n",
       "    <tr>\n",
       "      <th>1</th>\n",
       "      <td>UPMC Presbyterian Shadyside</td>\n",
       "      <td>72110</td>\n",
       "      <td>IP Price</td>\n",
       "      <td>1438</td>\n",
       "    </tr>\n",
       "    <tr>\n",
       "      <th>2</th>\n",
       "      <td>UPMC Presbyterian Shadyside</td>\n",
       "      <td>77067</td>\n",
       "      <td>IP Price</td>\n",
       "      <td>342</td>\n",
       "    </tr>\n",
       "    <tr>\n",
       "      <th>3</th>\n",
       "      <td>UPMC Presbyterian Shadyside</td>\n",
       "      <td>80048</td>\n",
       "      <td>IP Price</td>\n",
       "      <td>260</td>\n",
       "    </tr>\n",
       "    <tr>\n",
       "      <th>4</th>\n",
       "      <td>UPMC Presbyterian Shadyside</td>\n",
       "      <td>80048</td>\n",
       "      <td>IP Price</td>\n",
       "      <td>260</td>\n",
       "    </tr>\n",
       "  </tbody>\n",
       "</table>\n",
       "</div>"
      ],
      "text/plain": [
       "                      hospital procedure_code price_type_raw price\n",
       "0  UPMC Presbyterian Shadyside          70450       IP Price  3658\n",
       "1  UPMC Presbyterian Shadyside          72110       IP Price  1438\n",
       "2  UPMC Presbyterian Shadyside          77067       IP Price   342\n",
       "3  UPMC Presbyterian Shadyside          80048       IP Price   260\n",
       "4  UPMC Presbyterian Shadyside          80048       IP Price   260"
      ]
     },
     "execution_count": 10,
     "metadata": {},
     "output_type": "execute_result"
    }
   ],
   "source": [
    "# view\n",
    "print(df_upmc_long.shape)\n",
    "df_upmc_long.head()"
   ]
  },
  {
   "cell_type": "markdown",
   "metadata": {},
   "source": [
    "<a name=\"butler\"></a>\n",
    "#### Butler Memorial Hosptial"
   ]
  },
  {
   "cell_type": "code",
   "execution_count": 11,
   "metadata": {},
   "outputs": [],
   "source": [
    "# read data, strip spaces from column names\n",
    "df_bmh = pd.read_csv('https://www.butlerhealthsystem.org/documents/250965274_BMH_Standardcharges.csv', dtype = str)\n",
    "df_bmh.rename(columns=lambda x: x.strip(), inplace = True)\n",
    "\n",
    "# filter dataset by procedure code\n",
    "df_bmh['hospital'] = 'Butler Memorial Hospital'\n",
    "df_bmh = df_bmh[df_bmh['CPT-4/DRG'].isin(code_map.keys())]"
   ]
  },
  {
   "cell_type": "code",
   "execution_count": 12,
   "metadata": {},
   "outputs": [
    {
     "data": {
      "text/html": [
       "<div>\n",
       "<style scoped>\n",
       "    .dataframe tbody tr th:only-of-type {\n",
       "        vertical-align: middle;\n",
       "    }\n",
       "\n",
       "    .dataframe tbody tr th {\n",
       "        vertical-align: top;\n",
       "    }\n",
       "\n",
       "    .dataframe thead th {\n",
       "        text-align: right;\n",
       "    }\n",
       "</style>\n",
       "<table border=\"1\" class=\"dataframe\">\n",
       "  <thead>\n",
       "    <tr style=\"text-align: right;\">\n",
       "      <th></th>\n",
       "      <th>Facility</th>\n",
       "      <th>Mnemonic</th>\n",
       "      <th>Description</th>\n",
       "      <th>Rev Code</th>\n",
       "      <th>Service Unit</th>\n",
       "      <th>Generic Dept</th>\n",
       "      <th>CPT-4/DRG</th>\n",
       "      <th>SOI</th>\n",
       "      <th>Std Price</th>\n",
       "      <th>Discounted Cash Price</th>\n",
       "      <th>...</th>\n",
       "      <th>HMK - Community Blue - Comm</th>\n",
       "      <th>Humana Commercial</th>\n",
       "      <th>UHC Commercial</th>\n",
       "      <th>UPMC - Commercial</th>\n",
       "      <th>Intergroup Commercial</th>\n",
       "      <th>Multiplan Commercial</th>\n",
       "      <th>Private Health Care Services - Commercial</th>\n",
       "      <th>Min</th>\n",
       "      <th>Max</th>\n",
       "      <th>hospital</th>\n",
       "    </tr>\n",
       "  </thead>\n",
       "  <tbody>\n",
       "    <tr>\n",
       "      <th>6434</th>\n",
       "      <td>Buler Memorial Hospital</td>\n",
       "      <td>1600006</td>\n",
       "      <td>CT Head Brain wo Contrast</td>\n",
       "      <td>351</td>\n",
       "      <td>CT Scan</td>\n",
       "      <td>4490000</td>\n",
       "      <td>70450</td>\n",
       "      <td>NaN</td>\n",
       "      <td>$1,154.00</td>\n",
       "      <td>$311.58</td>\n",
       "      <td>...</td>\n",
       "      <td>$219.59</td>\n",
       "      <td>$865.50</td>\n",
       "      <td>$807.80</td>\n",
       "      <td>$604.60</td>\n",
       "      <td>$923.20</td>\n",
       "      <td>$1,038.60</td>\n",
       "      <td>$807.80</td>\n",
       "      <td>$85.25</td>\n",
       "      <td>$1,038.60</td>\n",
       "      <td>Butler Memorial Hospital</td>\n",
       "    </tr>\n",
       "    <tr>\n",
       "      <th>6722</th>\n",
       "      <td>Buler Memorial Hospital</td>\n",
       "      <td>1532175</td>\n",
       "      <td>Mammo Screen Digital Bilat</td>\n",
       "      <td>403</td>\n",
       "      <td>Other Imaging Services</td>\n",
       "      <td>4510000</td>\n",
       "      <td>77067</td>\n",
       "      <td>NaN</td>\n",
       "      <td>$416.00</td>\n",
       "      <td>$112.32</td>\n",
       "      <td>...</td>\n",
       "      <td>$202.67</td>\n",
       "      <td>$312.00</td>\n",
       "      <td>$291.20</td>\n",
       "      <td>$406.19</td>\n",
       "      <td>$332.80</td>\n",
       "      <td>$374.40</td>\n",
       "      <td>$291.20</td>\n",
       "      <td>$-</td>\n",
       "      <td>$406.19</td>\n",
       "      <td>Butler Memorial Hospital</td>\n",
       "    </tr>\n",
       "  </tbody>\n",
       "</table>\n",
       "<p>2 rows × 51 columns</p>\n",
       "</div>"
      ],
      "text/plain": [
       "                      Facility Mnemonic                 Description Rev Code  \\\n",
       "6434  Buler Memorial Hospital   1600006   CT Head Brain wo Contrast      351   \n",
       "6722  Buler Memorial Hospital   1532175  Mammo Screen Digital Bilat      403   \n",
       "\n",
       "                Service Unit Generic Dept CPT-4/DRG  SOI   Std Price  \\\n",
       "6434                 CT Scan      4490000     70450  NaN  $1,154.00    \n",
       "6722  Other Imaging Services      4510000     77067  NaN    $416.00    \n",
       "\n",
       "     Discounted Cash Price  ... HMK - Community Blue - Comm Humana Commercial  \\\n",
       "6434              $311.58   ...                    $219.59           $865.50    \n",
       "6722              $112.32   ...                    $202.67           $312.00    \n",
       "\n",
       "     UHC Commercial UPMC - Commercial Intergroup Commercial  \\\n",
       "6434       $807.80           $604.60               $923.20    \n",
       "6722       $291.20           $406.19               $332.80    \n",
       "\n",
       "     Multiplan Commercial Private Health Care Services - Commercial  \\\n",
       "6434           $1,038.60                                   $807.80    \n",
       "6722             $374.40                                   $291.20    \n",
       "\n",
       "               Min         Max                  hospital  \n",
       "6434       $85.25   $1,038.60   Butler Memorial Hospital  \n",
       "6722      $-          $406.19   Butler Memorial Hospital  \n",
       "\n",
       "[2 rows x 51 columns]"
      ]
     },
     "execution_count": 12,
     "metadata": {},
     "output_type": "execute_result"
    }
   ],
   "source": [
    "# view\n",
    "df_bmh.shape\n",
    "df_bmh.columns\n",
    "df_bmh.head(2)"
   ]
  },
  {
   "cell_type": "code",
   "execution_count": 13,
   "metadata": {},
   "outputs": [],
   "source": [
    "# drop unnecessary columns\n",
    "df_bmh = df_bmh.drop(columns = ['Mnemonic', 'Rev Code', 'Service Unit', 'Generic Dept', 'SOI', 'Facility'])"
   ]
  },
  {
   "cell_type": "code",
   "execution_count": 14,
   "metadata": {},
   "outputs": [],
   "source": [
    "# select ID columns, melt dataframe\n",
    "cols_id = ['hospital', 'Description', 'CPT-4/DRG']\n",
    "\n",
    "cols_val = []\n",
    "for item in df_bmh.columns.tolist():\n",
    "    if item not in cols_id:\n",
    "        cols_val.append(item)\n",
    "        \n",
    "# melt dataframe - wide to long\n",
    "df_bmh = df_bmh.reset_index()\n",
    "df_bmh_long = pd.melt(df_bmh, \n",
    "                      id_vars = cols_id,\n",
    "                      value_vars = cols_val)"
   ]
  },
  {
   "cell_type": "code",
   "execution_count": 15,
   "metadata": {},
   "outputs": [],
   "source": [
    "# rename columns\n",
    "df_bmh_long.rename(columns = col_names, inplace = True)\n",
    "\n",
    "# select and reorder columns\n",
    "df_bmh_long = df_bmh_long[['hospital', 'procedure_code', 'price_type_raw', 'price']]"
   ]
  },
  {
   "cell_type": "code",
   "execution_count": 16,
   "metadata": {},
   "outputs": [
    {
     "name": "stdout",
     "output_type": "stream",
     "text": [
      "(546, 4)\n"
     ]
    },
    {
     "data": {
      "text/html": [
       "<div>\n",
       "<style scoped>\n",
       "    .dataframe tbody tr th:only-of-type {\n",
       "        vertical-align: middle;\n",
       "    }\n",
       "\n",
       "    .dataframe tbody tr th {\n",
       "        vertical-align: top;\n",
       "    }\n",
       "\n",
       "    .dataframe thead th {\n",
       "        text-align: right;\n",
       "    }\n",
       "</style>\n",
       "<table border=\"1\" class=\"dataframe\">\n",
       "  <thead>\n",
       "    <tr style=\"text-align: right;\">\n",
       "      <th></th>\n",
       "      <th>hospital</th>\n",
       "      <th>procedure_code</th>\n",
       "      <th>price_type_raw</th>\n",
       "      <th>price</th>\n",
       "    </tr>\n",
       "  </thead>\n",
       "  <tbody>\n",
       "    <tr>\n",
       "      <th>0</th>\n",
       "      <td>Butler Memorial Hospital</td>\n",
       "      <td>70450</td>\n",
       "      <td>Std Price</td>\n",
       "      <td>$1,154.00</td>\n",
       "    </tr>\n",
       "    <tr>\n",
       "      <th>1</th>\n",
       "      <td>Butler Memorial Hospital</td>\n",
       "      <td>77067</td>\n",
       "      <td>Std Price</td>\n",
       "      <td>$416.00</td>\n",
       "    </tr>\n",
       "    <tr>\n",
       "      <th>2</th>\n",
       "      <td>Butler Memorial Hospital</td>\n",
       "      <td>77067</td>\n",
       "      <td>Std Price</td>\n",
       "      <td>$416.00</td>\n",
       "    </tr>\n",
       "    <tr>\n",
       "      <th>3</th>\n",
       "      <td>Butler Memorial Hospital</td>\n",
       "      <td>77067</td>\n",
       "      <td>Std Price</td>\n",
       "      <td>$416.00</td>\n",
       "    </tr>\n",
       "    <tr>\n",
       "      <th>4</th>\n",
       "      <td>Butler Memorial Hospital</td>\n",
       "      <td>77067</td>\n",
       "      <td>Std Price</td>\n",
       "      <td>$416.00</td>\n",
       "    </tr>\n",
       "  </tbody>\n",
       "</table>\n",
       "</div>"
      ],
      "text/plain": [
       "                   hospital procedure_code price_type_raw       price\n",
       "0  Butler Memorial Hospital          70450      Std Price  $1,154.00 \n",
       "1  Butler Memorial Hospital          77067      Std Price    $416.00 \n",
       "2  Butler Memorial Hospital          77067      Std Price    $416.00 \n",
       "3  Butler Memorial Hospital          77067      Std Price    $416.00 \n",
       "4  Butler Memorial Hospital          77067      Std Price    $416.00 "
      ]
     },
     "execution_count": 16,
     "metadata": {},
     "output_type": "execute_result"
    }
   ],
   "source": [
    "# view\n",
    "print(df_bmh_long.shape)\n",
    "df_bmh_long.head()"
   ]
  },
  {
   "cell_type": "markdown",
   "metadata": {},
   "source": [
    "<a name=\"acmh\"></a>\n",
    "#### ACMH Hosptial"
   ]
  },
  {
   "cell_type": "code",
   "execution_count": 17,
   "metadata": {},
   "outputs": [],
   "source": [
    "# read data\n",
    "df_acmh = pd.read_csv('https://www.acmh.org/Files/Admin/ACMH-Price-Transparency-Final.csv')\n",
    "\n",
    "# filter dataset by procedure code\n",
    "df_acmh = df_acmh[df_acmh['CPT/HCPCS'].isin(code_map.keys())]\n",
    "\n",
    "# hospital name\n",
    "df_acmh['hospital'] = 'ACMH Hospital'"
   ]
  },
  {
   "cell_type": "code",
   "execution_count": 18,
   "metadata": {},
   "outputs": [
    {
     "data": {
      "text/html": [
       "<div>\n",
       "<style scoped>\n",
       "    .dataframe tbody tr th:only-of-type {\n",
       "        vertical-align: middle;\n",
       "    }\n",
       "\n",
       "    .dataframe tbody tr th {\n",
       "        vertical-align: top;\n",
       "    }\n",
       "\n",
       "    .dataframe thead th {\n",
       "        text-align: right;\n",
       "    }\n",
       "</style>\n",
       "<table border=\"1\" class=\"dataframe\">\n",
       "  <thead>\n",
       "    <tr style=\"text-align: right;\">\n",
       "      <th></th>\n",
       "      <th>Charge Code/APC Package</th>\n",
       "      <th>Description</th>\n",
       "      <th>Hospital Price</th>\n",
       "      <th>Revenue Code</th>\n",
       "      <th>CPT/HCPCS</th>\n",
       "      <th>NDC</th>\n",
       "      <th>Cash Price</th>\n",
       "      <th>Unnamed: 7</th>\n",
       "      <th>Blue Cross Commercial</th>\n",
       "      <th>Blue Cross Chip</th>\n",
       "      <th>...</th>\n",
       "      <th>UPMC For Life</th>\n",
       "      <th>UHC</th>\n",
       "      <th>United Healthcare Medicare</th>\n",
       "      <th>Cigna</th>\n",
       "      <th>Aetna Commercial</th>\n",
       "      <th>Aetna Medicare</th>\n",
       "      <th>Unnamed: 20</th>\n",
       "      <th>MIN</th>\n",
       "      <th>MAX</th>\n",
       "      <th>hospital</th>\n",
       "    </tr>\n",
       "  </thead>\n",
       "  <tbody>\n",
       "    <tr>\n",
       "      <th>3149</th>\n",
       "      <td>72110</td>\n",
       "      <td>LS SPINE MIN 4 VWS</td>\n",
       "      <td>274</td>\n",
       "      <td>320.0</td>\n",
       "      <td>72110</td>\n",
       "      <td>NaN</td>\n",
       "      <td>120.56</td>\n",
       "      <td>NaN</td>\n",
       "      <td>227.41</td>\n",
       "      <td>101.62</td>\n",
       "      <td>...</td>\n",
       "      <td>101.87</td>\n",
       "      <td>158.92</td>\n",
       "      <td>101.87</td>\n",
       "      <td>124.67</td>\n",
       "      <td>250.6</td>\n",
       "      <td>103.91</td>\n",
       "      <td>NaN</td>\n",
       "      <td>71.31</td>\n",
       "      <td>250.6</td>\n",
       "      <td>ACMH Hospital</td>\n",
       "    </tr>\n",
       "    <tr>\n",
       "      <th>3150</th>\n",
       "      <td>72110</td>\n",
       "      <td>LS SPINE MIN 4 VWS</td>\n",
       "      <td>274</td>\n",
       "      <td>320.0</td>\n",
       "      <td>72110</td>\n",
       "      <td>NaN</td>\n",
       "      <td>120.56</td>\n",
       "      <td>NaN</td>\n",
       "      <td>227.41</td>\n",
       "      <td>101.62</td>\n",
       "      <td>...</td>\n",
       "      <td>101.87</td>\n",
       "      <td>158.92</td>\n",
       "      <td>101.87</td>\n",
       "      <td>124.67</td>\n",
       "      <td>250.6</td>\n",
       "      <td>103.91</td>\n",
       "      <td>NaN</td>\n",
       "      <td>71.31</td>\n",
       "      <td>250.6</td>\n",
       "      <td>ACMH Hospital</td>\n",
       "    </tr>\n",
       "  </tbody>\n",
       "</table>\n",
       "<p>2 rows × 24 columns</p>\n",
       "</div>"
      ],
      "text/plain": [
       "     Charge Code/APC Package         Description Hospital Price  Revenue Code  \\\n",
       "3149                   72110  LS SPINE MIN 4 VWS            274         320.0   \n",
       "3150                   72110  LS SPINE MIN 4 VWS            274         320.0   \n",
       "\n",
       "     CPT/HCPCS  NDC Cash Price  Unnamed: 7 Blue Cross Commercial  \\\n",
       "3149     72110  NaN     120.56         NaN                227.41   \n",
       "3150     72110  NaN     120.56         NaN                227.41   \n",
       "\n",
       "     Blue Cross Chip  ... UPMC For Life     UHC United Healthcare Medicare  \\\n",
       "3149          101.62  ...        101.87  158.92                     101.87   \n",
       "3150          101.62  ...        101.87  158.92                     101.87   \n",
       "\n",
       "       Cigna Aetna Commercial Aetna Medicare Unnamed: 20    MIN    MAX  \\\n",
       "3149  124.67            250.6         103.91         NaN  71.31  250.6   \n",
       "3150  124.67            250.6         103.91         NaN  71.31  250.6   \n",
       "\n",
       "           hospital  \n",
       "3149  ACMH Hospital  \n",
       "3150  ACMH Hospital  \n",
       "\n",
       "[2 rows x 24 columns]"
      ]
     },
     "execution_count": 18,
     "metadata": {},
     "output_type": "execute_result"
    }
   ],
   "source": [
    "# view\n",
    "df_acmh.shape\n",
    "df_acmh.columns\n",
    "df_acmh.head(2)"
   ]
  },
  {
   "cell_type": "code",
   "execution_count": 19,
   "metadata": {},
   "outputs": [],
   "source": [
    "# drop unnecessary columns\n",
    "df_acmh = df_acmh.drop(columns = ['Charge Code/APC Package', 'Revenue Code', 'NDC'])"
   ]
  },
  {
   "cell_type": "code",
   "execution_count": 20,
   "metadata": {},
   "outputs": [],
   "source": [
    "# select ID columns, melt dataframe\n",
    "cols_id = ['hospital', 'Description', 'CPT/HCPCS']\n",
    "\n",
    "cols_val = []\n",
    "for item in df_acmh.columns.tolist():\n",
    "    if item not in cols_id:\n",
    "        cols_val.append(item)\n",
    "\n",
    "# melt dataframe - wide to long\n",
    "df_acmh = df_acmh.reset_index()\n",
    "df_acmh_long = pd.melt(df_acmh, \n",
    "                      id_vars = cols_id,\n",
    "                      value_vars = cols_val)"
   ]
  },
  {
   "cell_type": "code",
   "execution_count": 21,
   "metadata": {},
   "outputs": [],
   "source": [
    "# rename columns\n",
    "df_acmh_long.rename(columns = col_names, inplace = True)\n",
    "\n",
    "# select and reorder columns\n",
    "df_acmh_long = df_acmh_long[['hospital', 'procedure_code', 'price_type_raw', 'price']]"
   ]
  },
  {
   "cell_type": "code",
   "execution_count": 22,
   "metadata": {},
   "outputs": [
    {
     "name": "stdout",
     "output_type": "stream",
     "text": [
      "(396, 4)\n"
     ]
    },
    {
     "data": {
      "text/html": [
       "<div>\n",
       "<style scoped>\n",
       "    .dataframe tbody tr th:only-of-type {\n",
       "        vertical-align: middle;\n",
       "    }\n",
       "\n",
       "    .dataframe tbody tr th {\n",
       "        vertical-align: top;\n",
       "    }\n",
       "\n",
       "    .dataframe thead th {\n",
       "        text-align: right;\n",
       "    }\n",
       "</style>\n",
       "<table border=\"1\" class=\"dataframe\">\n",
       "  <thead>\n",
       "    <tr style=\"text-align: right;\">\n",
       "      <th></th>\n",
       "      <th>hospital</th>\n",
       "      <th>procedure_code</th>\n",
       "      <th>price_type_raw</th>\n",
       "      <th>price</th>\n",
       "    </tr>\n",
       "  </thead>\n",
       "  <tbody>\n",
       "    <tr>\n",
       "      <th>0</th>\n",
       "      <td>ACMH Hospital</td>\n",
       "      <td>72110</td>\n",
       "      <td>Hospital Price</td>\n",
       "      <td>274</td>\n",
       "    </tr>\n",
       "    <tr>\n",
       "      <th>1</th>\n",
       "      <td>ACMH Hospital</td>\n",
       "      <td>72110</td>\n",
       "      <td>Hospital Price</td>\n",
       "      <td>274</td>\n",
       "    </tr>\n",
       "    <tr>\n",
       "      <th>2</th>\n",
       "      <td>ACMH Hospital</td>\n",
       "      <td>72110</td>\n",
       "      <td>Hospital Price</td>\n",
       "      <td>274</td>\n",
       "    </tr>\n",
       "    <tr>\n",
       "      <th>3</th>\n",
       "      <td>ACMH Hospital</td>\n",
       "      <td>72110</td>\n",
       "      <td>Hospital Price</td>\n",
       "      <td>274</td>\n",
       "    </tr>\n",
       "    <tr>\n",
       "      <th>4</th>\n",
       "      <td>ACMH Hospital</td>\n",
       "      <td>72110</td>\n",
       "      <td>Hospital Price</td>\n",
       "      <td>274</td>\n",
       "    </tr>\n",
       "  </tbody>\n",
       "</table>\n",
       "</div>"
      ],
      "text/plain": [
       "        hospital procedure_code  price_type_raw price\n",
       "0  ACMH Hospital          72110  Hospital Price   274\n",
       "1  ACMH Hospital          72110  Hospital Price   274\n",
       "2  ACMH Hospital          72110  Hospital Price   274\n",
       "3  ACMH Hospital          72110  Hospital Price   274\n",
       "4  ACMH Hospital          72110  Hospital Price   274"
      ]
     },
     "execution_count": 22,
     "metadata": {},
     "output_type": "execute_result"
    }
   ],
   "source": [
    "# view\n",
    "print(df_acmh_long.shape)\n",
    "df_acmh_long.head()"
   ]
  },
  {
   "cell_type": "markdown",
   "metadata": {},
   "source": [
    "<a name=\"append\"></a>\n",
    "### Append & Standardize Combined Hospital Data"
   ]
  },
  {
   "cell_type": "code",
   "execution_count": 23,
   "metadata": {},
   "outputs": [],
   "source": [
    "# append hospital data\n",
    "df_all = df_upmc_long.append(df_bmh_long).append(df_acmh_long).reset_index(drop=True)"
   ]
  },
  {
   "cell_type": "code",
   "execution_count": 24,
   "metadata": {},
   "outputs": [],
   "source": [
    "# map raw to clean price types\n",
    "df_all['price_type_clean'] = df_all['price_type_raw'].map(pt_map)\n",
    "df_all['price_type_clean'] = df_all['price_type_clean'].fillna('Negotiated')\n",
    "\n",
    "# map raw to clean description name\n",
    "df_all['procedure_desc_clean'] = df_all['procedure_code'].map(code_map)"
   ]
  },
  {
   "cell_type": "code",
   "execution_count": 25,
   "metadata": {},
   "outputs": [],
   "source": [
    "# drop duplicates (some rows repeated due to hospital variations of procedure name)\n",
    "df_all = df_all.drop_duplicates()\n",
    "\n",
    "# drop blank rows (i.e. no price for that type/procedure)\n",
    "df_all = df_all.dropna(subset = ['price'])"
   ]
  },
  {
   "cell_type": "code",
   "execution_count": 26,
   "metadata": {},
   "outputs": [
    {
     "name": "stderr",
     "output_type": "stream",
     "text": [
      "<ipython-input-26-f4a014d0357f>:2: FutureWarning: The default value of regex will change from True to False in a future version. In addition, single character regular expressions will *not* be treated as literal strings when regex=True.\n",
      "  df_all['price'] = df_all['price'].str.replace(',', '').str.replace('$', '').str.replace('-', '').str.strip()\n"
     ]
    }
   ],
   "source": [
    "# convert prices to float\n",
    "df_all['price'] = df_all['price'].str.replace(',', '').str.replace('$', '').str.replace('-', '').str.strip()\n",
    "df_all = df_all[df_all['price'] != '']\n",
    "\n",
    "df_all['price'] = df_all['price'].apply(pd.to_numeric)"
   ]
  },
  {
   "cell_type": "code",
   "execution_count": 27,
   "metadata": {},
   "outputs": [
    {
     "data": {
      "text/html": [
       "<div>\n",
       "<style scoped>\n",
       "    .dataframe tbody tr th:only-of-type {\n",
       "        vertical-align: middle;\n",
       "    }\n",
       "\n",
       "    .dataframe tbody tr th {\n",
       "        vertical-align: top;\n",
       "    }\n",
       "\n",
       "    .dataframe thead th {\n",
       "        text-align: right;\n",
       "    }\n",
       "</style>\n",
       "<table border=\"1\" class=\"dataframe\">\n",
       "  <thead>\n",
       "    <tr style=\"text-align: right;\">\n",
       "      <th></th>\n",
       "      <th>hospital</th>\n",
       "      <th>procedure_code</th>\n",
       "      <th>procedure_desc_clean</th>\n",
       "      <th>price_type_raw</th>\n",
       "      <th>price_type_clean</th>\n",
       "      <th>price</th>\n",
       "    </tr>\n",
       "  </thead>\n",
       "  <tbody>\n",
       "    <tr>\n",
       "      <th>0</th>\n",
       "      <td>UPMC Presbyterian Shadyside</td>\n",
       "      <td>70450</td>\n",
       "      <td>CT scan, head or brain, without contrast</td>\n",
       "      <td>IP Price</td>\n",
       "      <td>Gross IP</td>\n",
       "      <td>3658.0</td>\n",
       "    </tr>\n",
       "    <tr>\n",
       "      <th>1</th>\n",
       "      <td>UPMC Presbyterian Shadyside</td>\n",
       "      <td>72110</td>\n",
       "      <td>X-Ray, lower back, minimum four views</td>\n",
       "      <td>IP Price</td>\n",
       "      <td>Gross IP</td>\n",
       "      <td>1438.0</td>\n",
       "    </tr>\n",
       "    <tr>\n",
       "      <th>2</th>\n",
       "      <td>UPMC Presbyterian Shadyside</td>\n",
       "      <td>77067</td>\n",
       "      <td>Mammography, screening, bilateral</td>\n",
       "      <td>IP Price</td>\n",
       "      <td>Gross IP</td>\n",
       "      <td>342.0</td>\n",
       "    </tr>\n",
       "    <tr>\n",
       "      <th>3</th>\n",
       "      <td>UPMC Presbyterian Shadyside</td>\n",
       "      <td>80048</td>\n",
       "      <td>Basic metabolic panel</td>\n",
       "      <td>IP Price</td>\n",
       "      <td>Gross IP</td>\n",
       "      <td>260.0</td>\n",
       "    </tr>\n",
       "    <tr>\n",
       "      <th>5</th>\n",
       "      <td>UPMC Presbyterian Shadyside</td>\n",
       "      <td>470</td>\n",
       "      <td>Major joint replacement or reattachment of low...</td>\n",
       "      <td>IP Price</td>\n",
       "      <td>Gross IP</td>\n",
       "      <td>95094.0</td>\n",
       "    </tr>\n",
       "  </tbody>\n",
       "</table>\n",
       "</div>"
      ],
      "text/plain": [
       "                      hospital procedure_code  \\\n",
       "0  UPMC Presbyterian Shadyside          70450   \n",
       "1  UPMC Presbyterian Shadyside          72110   \n",
       "2  UPMC Presbyterian Shadyside          77067   \n",
       "3  UPMC Presbyterian Shadyside          80048   \n",
       "5  UPMC Presbyterian Shadyside            470   \n",
       "\n",
       "                                procedure_desc_clean price_type_raw  \\\n",
       "0           CT scan, head or brain, without contrast       IP Price   \n",
       "1              X-Ray, lower back, minimum four views       IP Price   \n",
       "2                  Mammography, screening, bilateral       IP Price   \n",
       "3                              Basic metabolic panel       IP Price   \n",
       "5  Major joint replacement or reattachment of low...       IP Price   \n",
       "\n",
       "  price_type_clean    price  \n",
       "0         Gross IP   3658.0  \n",
       "1         Gross IP   1438.0  \n",
       "2         Gross IP    342.0  \n",
       "3         Gross IP    260.0  \n",
       "5         Gross IP  95094.0  "
      ]
     },
     "execution_count": 27,
     "metadata": {},
     "output_type": "execute_result"
    }
   ],
   "source": [
    "# rearrange columns, view\n",
    "df_all = df_all[['hospital', 'procedure_code', 'procedure_desc_clean', 'price_type_raw', 'price_type_clean', 'price']]\n",
    "df_all.head()"
   ]
  },
  {
   "cell_type": "code",
   "execution_count": 28,
   "metadata": {},
   "outputs": [],
   "source": [
    "# create dataframe with negotiated prices only\n",
    "df_neg = df_all[df_all['price_type_clean'] == 'Negotiated']"
   ]
  },
  {
   "cell_type": "markdown",
   "metadata": {},
   "source": [
    "<a name=\"visualize\"></a>\n",
    "## Visualizing Price Variation (Negotiated Rates)"
   ]
  },
  {
   "cell_type": "code",
   "execution_count": 29,
   "metadata": {},
   "outputs": [
    {
     "data": {
      "image/png": "[encoded data removed]",
      "text/plain": [
       "<Figure size 864x576 with 1 Axes>"
      ]
     },
     "metadata": {
      "needs_background": "light"
     },
     "output_type": "display_data"
    },
    {
     "data": {
      "image/png": "[encoded data removed]",
      "text/plain": [
       "<Figure size 864x576 with 1 Axes>"
      ]
     },
     "metadata": {
      "needs_background": "light"
     },
     "output_type": "display_data"
    },
    {
     "data": {
      "image/png": "[encoded data removed]",
      "text/plain": [
       "<Figure size 864x576 with 1 Axes>"
      ]
     },
     "metadata": {
      "needs_background": "light"
     },
     "output_type": "display_data"
    },
    {
     "data": {
      "image/png": "[encoded data removed]",
      "text/plain": [
       "<Figure size 864x576 with 1 Axes>"
      ]
     },
     "metadata": {
      "needs_background": "light"
     },
     "output_type": "display_data"
    },
    {
     "data": {
      "image/png": "[encoded data removed]",
      "text/plain": [
       "<Figure size 864x576 with 1 Axes>"
      ]
     },
     "metadata": {
      "needs_background": "light"
     },
     "output_type": "display_data"
    }
   ],
   "source": [
    "# box plots demonstrate both inter- and intra-hospital negotiated price variation\n",
    "\n",
    "# create procedure list\n",
    "procedure_list = df_neg['procedure_desc_clean'].unique().tolist()\n",
    "\n",
    "# loop through procedures, plotting hospitals side-by-side\n",
    "for p in procedure_list:\n",
    "    upmc_prices = df_neg[(df_neg['hospital'] == 'UPMC Presbyterian Shadyside') & (df_neg['procedure_desc_clean'] == p)][['hospital', 'price']]\n",
    "    bmh_prices = df_neg[(df_neg['hospital'] == 'Butler Memorial Hospital') & (df_neg['procedure_desc_clean'] == p)][['hospital', 'price']]\n",
    "    acmh_prices = df_neg[(df_neg['hospital'] == 'ACMH Hospital') & (df_neg['procedure_desc_clean'] == p)][['hospital', 'price']]\n",
    "\n",
    "    fig, ax = plt.subplots(figsize=(12, 8))\n",
    "\n",
    "    ax.grid(color = 'grey', axis = 'y', linestyle = '-', linewidth = 0.2, alpha = 0.8)\n",
    "\n",
    "    ax.set_title(f'Negotiated Price Distributions for Selected SW Pennsylvania Hospitals\\nProcedure: {p}')\n",
    "\n",
    "    data = [upmc_prices['price'], bmh_prices['price'], acmh_prices['price']]\n",
    "    labels = df_all['hospital'].unique().tolist()\n",
    "    bp = ax.boxplot(data, labels = labels, showfliers = False, patch_artist = True, medianprops = dict(linestyle = '--', linewidth = 2, color = '#ed6868'))\n",
    "    ax.set_ylabel('Negotiated Price ($)', fontsize = 12)\n",
    "    \n",
    "    colors = ['#F9EBDF', '#EFF9DA', '#CDF5F6']\n",
    "    for patch, color in zip(bp['boxes'], colors):\n",
    "        patch.set_facecolor(color)\n",
    "        \n",
    "    plt.figtext(0.5, 0.075, 'Note: Distributions do not account for frequency (i.e., not weighted by number of procedures performed under given rate).', \n",
    "                wrap=True, horizontalalignment='center', fontsize=10)\n",
    "    \n",
    "    plt.show()"
   ]
  },
  {
   "cell_type": "markdown",
   "metadata": {},
   "source": [
    "<a name=\"info\"></a>\n",
    "## Hospital Information"
   ]
  },
  {
   "cell_type": "markdown",
   "metadata": {},
   "source": [
    "When comparing shoppable services, self-insured employers and consumers may wish to also consider factors like: health system, hospital size (bed count), quality of care, and geographic location. These factors are analyzed in the larger project, but presented only briefly here for context.\n",
    "\n",
    "[UPMC Presbyterian](https://www.upmc.com/locations/hospitals/presbyterian)\n",
    "* County: Allgeheny\n",
    "* Health System: UPMC\n",
    "* [Bed Count](https://data.cms.gov/provider-characteristics/hospitals-and-other-facilities/provider-of-services-file-hospital-non-hospital-facilities): 1577\n",
    "* [CMS Star Quality Rating](https://data.cms.gov/provider-data/dataset/xubh-q36u): 3\n",
    "\n",
    "[Butler Memorial](https://www.butlerhealthsystem.org/)\n",
    "* County: Butler\n",
    "* Health System: Butler Health System\n",
    "* [Bed Count](https://data.cms.gov/provider-characteristics/hospitals-and-other-facilities/provider-of-services-file-hospital-non-hospital-facilities): 294\n",
    "* [CMS Star Quality Rating](https://data.cms.gov/provider-data/dataset/xubh-q36u): 4\n",
    "\n",
    "[ACMH Hospital](https://www.acmh.org/)\n",
    "* County: Armstrong\n",
    "* Health System: Independent\n",
    "* [Bed Count](https://data.cms.gov/provider-characteristics/hospitals-and-other-facilities/provider-of-services-file-hospital-non-hospital-facilities): 154\n",
    "* [CMS Star Quality Rating](https://data.cms.gov/provider-data/dataset/xubh-q36u): 4"
   ]
  },
  {
   "cell_type": "markdown",
   "metadata": {},
   "source": [
    "<a name=\"sample\"></a>\n",
    "## Sample Observations and Interpretations"
   ]
  },
  {
   "cell_type": "markdown",
   "metadata": {},
   "source": [
    "Note: The distribution visualizations above do not account for frequency (i.e., not weighted by number of procedures performed under given rate).\n",
    "\n",
    "For the major joint replacement procedure, UPMC Presbyterian and Butler both show a wide range of prices (intra-hospital variation) while ACMH does not appear to offer the procedure. UPMC Presbyterian's prices for this procedure generally tend to be higher than those at Butler (inter-hospital variation).\n",
    "\n",
    "A more common procedure, a mammogram, is offered at all three hospitals. While UPMC Presbyterian's range of prices is quite large, the middle 50% of the distribution falls almost entirely below the middle 50% of the price distributions at Butler and ACMH.\n",
    "\n",
    "In general, UPMC Presbyterian tends to have less intra-hospital price variation than Butler and ACMH. In general, ACMH tends to have a higher median prices for these procedures than Butler and ACMH."
   ]
  }
 ],
 "metadata": {
  "kernelspec": {
   "display_name": "Python 3",
   "language": "python",
   "name": "python3"
  },
  "language_info": {
   "codemirror_mode": {
    "name": "ipython",
    "version": 3
   },
   "file_extension": ".py",
   "mimetype": "text/x-python",
   "name": "python",
   "nbconvert_exporter": "python",
   "pygments_lexer": "ipython3",
   "version": "3.8.3"
  }
 },
 "nbformat": 4,
 "nbformat_minor": 4
}
